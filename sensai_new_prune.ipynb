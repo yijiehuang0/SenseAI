{
 "cells": [
  {
   "cell_type": "code",
   "execution_count": 4,
   "metadata": {
    "colab": {
     "base_uri": "https://localhost:8080/",
     "height": 102
    },
    "colab_type": "code",
    "id": "ih03zu2yjv0V",
    "outputId": "8c953dce-28a3-48bb-d24d-46d25b14fd0d"
   },
   "outputs": [
    {
     "name": "stdout",
     "output_type": "stream",
     "text": [
      "Cloning into 'pytorch-slimming'...\n",
      "remote: Enumerating objects: 44, done.\u001b[K\n",
      "remote: Total 44 (delta 0), reused 0 (delta 0), pack-reused 44\u001b[K\n",
      "Unpacking objects: 100% (44/44), done.\n",
      "LICENSE          \u001b[34m__pycache__\u001b[m\u001b[m      main.py          \u001b[34mpytorch-slimming\u001b[m\u001b[m\n",
      "README.md        \u001b[34mdata\u001b[m\u001b[m             prune.py         vgg.py\n"
     ]
    }
   ],
   "source": [
    "! git clone https://github.com/foolwood/pytorch-slimming.git\n",
    "! ls"
   ]
  },
  {
   "cell_type": "code",
   "execution_count": 1,
   "metadata": {
    "colab": {
     "base_uri": "https://localhost:8080/",
     "height": 34
    },
    "colab_type": "code",
    "id": "iRU4IRuPj7jo",
    "outputId": "0e5bd136-228f-46ea-bd13-2c131ab2daeb"
   },
   "outputs": [
    {
     "name": "stdout",
     "output_type": "stream",
     "text": [
      "/Users/yijiehuang/Desktop/senseAI/pytorch-slimming\n"
     ]
    }
   ],
   "source": [
    "%cd pytorch-slimming"
   ]
  },
  {
   "cell_type": "markdown",
   "metadata": {
    "colab_type": "text",
    "id": "raqp5yWrlr4g"
   },
   "source": [
    "Prior to running the following scripts, you must modify main.py. There are two places where it says data[0] at the end of the line: in training and test sections of main.py.\n",
    "\n",
    "Click on \"view\" tab in the top left corner, click on table of contents, go into \"pytorch-slimming\" and click on main.py to modify it. Then, make the changes, control-s (cmd + s on mac) save the changes."
   ]
  },
  {
   "cell_type": "code",
   "execution_count": 2,
   "metadata": {
    "colab": {
     "base_uri": "https://localhost:8080/",
     "height": 802
    },
    "colab_type": "code",
    "id": "P4HLTR_zj07n",
    "outputId": "d1dce5ee-8f33-40c4-9f27-949d48d54ecd"
   },
   "outputs": [
    {
     "name": "stdout",
     "output_type": "stream",
     "text": [
      "Downloading https://www.cs.toronto.edu/~kriz/cifar-10-python.tar.gz to ./data/cifar-10-python.tar.gz\n",
      "100%|███████████████████████▉| 170352640/170498071 [01:35<00:00, 1981991.30it/s]Extracting ./data/cifar-10-python.tar.gz to ./data\n",
      "Train Epoch: 0 [0/50000 (0.0%)]\tLoss: 2.299560\n",
      "170500096it [01:50, 1981991.30it/s]                                             Train Epoch: 0 [10000/50000 (20.0%)]\tLoss: 1.866472\n",
      "Train Epoch: 0 [20000/50000 (40.0%)]\tLoss: 1.792302\n",
      "^C\n",
      "Traceback (most recent call last):\n",
      "  File \"main.py\", line 155, in <module>\n",
      "    train(epoch)\n",
      "  File \"main.py\", line 111, in train\n",
      "    output = model(data)\n",
      "  File \"/Users/yijiehuang/anaconda3/lib/python3.6/site-packages/torch/nn/modules/module.py\", line 532, in __call__\n",
      "    result = self.forward(*input, **kwargs)\n",
      "  File \"/Users/yijiehuang/Desktop/senseAI/pytorch-slimming/vgg.py\", line 39, in forward\n",
      "    x = self.feature(x)\n",
      "  File \"/Users/yijiehuang/anaconda3/lib/python3.6/site-packages/torch/nn/modules/module.py\", line 532, in __call__\n",
      "    result = self.forward(*input, **kwargs)\n",
      "  File \"/Users/yijiehuang/anaconda3/lib/python3.6/site-packages/torch/nn/modules/container.py\", line 100, in forward\n",
      "    input = module(input)\n",
      "  File \"/Users/yijiehuang/anaconda3/lib/python3.6/site-packages/torch/nn/modules/module.py\", line 532, in __call__\n",
      "    result = self.forward(*input, **kwargs)\n",
      "  File \"/Users/yijiehuang/anaconda3/lib/python3.6/site-packages/torch/nn/modules/conv.py\", line 345, in forward\n",
      "    return self.conv2d_forward(input, self.weight)\n",
      "  File \"/Users/yijiehuang/anaconda3/lib/python3.6/site-packages/torch/nn/modules/conv.py\", line 342, in conv2d_forward\n",
      "    self.padding, self.dilation, self.groups)\n",
      "KeyboardInterrupt\n",
      "170500096it [20:02, 141795.24it/s] \n"
     ]
    }
   ],
   "source": [
    "! python main.py -sr --epochs 5 --s 0.001"
   ]
  },
  {
   "cell_type": "code",
   "execution_count": 0,
   "metadata": {
    "colab": {
     "base_uri": "https://localhost:8080/",
     "height": 85
    },
    "colab_type": "code",
    "id": "luyjJVidj_Yt",
    "outputId": "fe1efe40-942b-40d6-a814-4bba92630a11"
   },
   "outputs": [
    {
     "name": "stdout",
     "output_type": "stream",
     "text": [
      "checkpoint.pth.tar  model_best.pth.tar\t       pruned4.pth.tar\tvgg.py\n",
      "data\t\t    model_best_refine.pth.tar  prune.py\n",
      "LICENSE\t\t    pruned2.pth.tar\t       __pycache__\n",
      "main.py\t\t    pruned3.pth.tar\t       README.md\n"
     ]
    }
   ],
   "source": [
    "! ls #now should contain model_best.pth.tar"
   ]
  },
  {
   "cell_type": "code",
   "execution_count": 0,
   "metadata": {
    "colab": {
     "base_uri": "https://localhost:8080/",
     "height": 1000
    },
    "colab_type": "code",
    "id": "r4hpyCC0kCVX",
    "outputId": "fee8c030-9624-4115-e557-5f0e48e95ef6"
   },
   "outputs": [
    {
     "name": "stdout",
     "output_type": "stream",
     "text": [
      "=> loading checkpoint 'model_best.pth.tar'\n",
      "=> loaded checkpoint 'model_best.pth.tar' (epoch 5) Prec1: 0.643900\n",
      "vgg(\n",
      "  (feature): Sequential(\n",
      "    (0): Conv2d(3, 64, kernel_size=(3, 3), stride=(1, 1), padding=(1, 1), bias=False)\n",
      "    (1): BatchNorm2d(64, eps=1e-05, momentum=0.1, affine=True, track_running_stats=True)\n",
      "    (2): ReLU(inplace=True)\n",
      "    (3): Conv2d(64, 64, kernel_size=(3, 3), stride=(1, 1), padding=(1, 1), bias=False)\n",
      "    (4): BatchNorm2d(64, eps=1e-05, momentum=0.1, affine=True, track_running_stats=True)\n",
      "    (5): ReLU(inplace=True)\n",
      "    (6): MaxPool2d(kernel_size=2, stride=2, padding=0, dilation=1, ceil_mode=False)\n",
      "    (7): Conv2d(64, 128, kernel_size=(3, 3), stride=(1, 1), padding=(1, 1), bias=False)\n",
      "    (8): BatchNorm2d(128, eps=1e-05, momentum=0.1, affine=True, track_running_stats=True)\n",
      "    (9): ReLU(inplace=True)\n",
      "    (10): Conv2d(128, 128, kernel_size=(3, 3), stride=(1, 1), padding=(1, 1), bias=False)\n",
      "    (11): BatchNorm2d(128, eps=1e-05, momentum=0.1, affine=True, track_running_stats=True)\n",
      "    (12): ReLU(inplace=True)\n",
      "    (13): MaxPool2d(kernel_size=2, stride=2, padding=0, dilation=1, ceil_mode=False)\n",
      "    (14): Conv2d(128, 256, kernel_size=(3, 3), stride=(1, 1), padding=(1, 1), bias=False)\n",
      "    (15): BatchNorm2d(256, eps=1e-05, momentum=0.1, affine=True, track_running_stats=True)\n",
      "    (16): ReLU(inplace=True)\n",
      "    (17): Conv2d(256, 256, kernel_size=(3, 3), stride=(1, 1), padding=(1, 1), bias=False)\n",
      "    (18): BatchNorm2d(256, eps=1e-05, momentum=0.1, affine=True, track_running_stats=True)\n",
      "    (19): ReLU(inplace=True)\n",
      "    (20): Conv2d(256, 256, kernel_size=(3, 3), stride=(1, 1), padding=(1, 1), bias=False)\n",
      "    (21): BatchNorm2d(256, eps=1e-05, momentum=0.1, affine=True, track_running_stats=True)\n",
      "    (22): ReLU(inplace=True)\n",
      "    (23): Conv2d(256, 256, kernel_size=(3, 3), stride=(1, 1), padding=(1, 1), bias=False)\n",
      "    (24): BatchNorm2d(256, eps=1e-05, momentum=0.1, affine=True, track_running_stats=True)\n",
      "    (25): ReLU(inplace=True)\n",
      "    (26): MaxPool2d(kernel_size=2, stride=2, padding=0, dilation=1, ceil_mode=False)\n",
      "    (27): Conv2d(256, 512, kernel_size=(3, 3), stride=(1, 1), padding=(1, 1), bias=False)\n",
      "    (28): BatchNorm2d(512, eps=1e-05, momentum=0.1, affine=True, track_running_stats=True)\n",
      "    (29): ReLU(inplace=True)\n",
      "    (30): Conv2d(512, 512, kernel_size=(3, 3), stride=(1, 1), padding=(1, 1), bias=False)\n",
      "    (31): BatchNorm2d(512, eps=1e-05, momentum=0.1, affine=True, track_running_stats=True)\n",
      "    (32): ReLU(inplace=True)\n",
      "    (33): Conv2d(512, 512, kernel_size=(3, 3), stride=(1, 1), padding=(1, 1), bias=False)\n",
      "    (34): BatchNorm2d(512, eps=1e-05, momentum=0.1, affine=True, track_running_stats=True)\n",
      "    (35): ReLU(inplace=True)\n",
      "    (36): Conv2d(512, 512, kernel_size=(3, 3), stride=(1, 1), padding=(1, 1), bias=False)\n",
      "    (37): BatchNorm2d(512, eps=1e-05, momentum=0.1, affine=True, track_running_stats=True)\n",
      "    (38): ReLU(inplace=True)\n",
      "    (39): MaxPool2d(kernel_size=2, stride=2, padding=0, dilation=1, ceil_mode=False)\n",
      "    (40): Conv2d(512, 512, kernel_size=(3, 3), stride=(1, 1), padding=(1, 1), bias=False)\n",
      "    (41): BatchNorm2d(512, eps=1e-05, momentum=0.1, affine=True, track_running_stats=True)\n",
      "    (42): ReLU(inplace=True)\n",
      "    (43): Conv2d(512, 512, kernel_size=(3, 3), stride=(1, 1), padding=(1, 1), bias=False)\n",
      "    (44): BatchNorm2d(512, eps=1e-05, momentum=0.1, affine=True, track_running_stats=True)\n",
      "    (45): ReLU(inplace=True)\n",
      "    (46): Conv2d(512, 512, kernel_size=(3, 3), stride=(1, 1), padding=(1, 1), bias=False)\n",
      "    (47): BatchNorm2d(512, eps=1e-05, momentum=0.1, affine=True, track_running_stats=True)\n",
      "    (48): ReLU(inplace=True)\n",
      "    (49): Conv2d(512, 512, kernel_size=(3, 3), stride=(1, 1), padding=(1, 1), bias=False)\n",
      "    (50): BatchNorm2d(512, eps=1e-05, momentum=0.1, affine=True, track_running_stats=True)\n",
      "    (51): ReLU(inplace=True)\n",
      "  )\n",
      "  (classifier): Linear(in_features=512, out_features=10, bias=True)\n",
      ")\n",
      "layer index: 3 \t total channel: 64 \t remaining channel: 16\n",
      "layer index: 6 \t total channel: 64 \t remaining channel: 43\n",
      "layer index: 10 \t total channel: 128 \t remaining channel: 54\n",
      "layer index: 13 \t total channel: 128 \t remaining channel: 62\n",
      "layer index: 17 \t total channel: 256 \t remaining channel: 69\n",
      "layer index: 20 \t total channel: 256 \t remaining channel: 41\n",
      "layer index: 23 \t total channel: 256 \t remaining channel: 22\n",
      "layer index: 26 \t total channel: 256 \t remaining channel: 27\n",
      "layer index: 30 \t total channel: 512 \t remaining channel: 9\n",
      "layer index: 33 \t total channel: 512 \t remaining channel: 2\n",
      "layer index: 36 \t total channel: 512 \t remaining channel: 1\n",
      "layer index: 39 \t total channel: 512 \t remaining channel: 1\n",
      "layer index: 43 \t total channel: 512 \t remaining channel: 20\n",
      "layer index: 46 \t total channel: 512 \t remaining channel: 1\n",
      "layer index: 49 \t total channel: 512 \t remaining channel: 8\n",
      "layer index: 52 \t total channel: 512 \t remaining channel: 29\n",
      "Pre-processing Successful!\n",
      "prune.py:101: UserWarning: volatile was removed and now has no effect. Use `with torch.no_grad():` instead.\n",
      "  data, target = Variable(data, volatile=True), Variable(target)\n",
      "\n",
      "Test set: Accuracy: 1000/10000 (10.0%)\n",
      "\n",
      "[16, 43, 'M', 54, 62, 'M', 69, 41, 22, 27, 'M', 9, 2, 1, 1, 'M', 20, 1, 8, 29]\n",
      "In shape: 3 Out shape:16\n",
      "In shape: 16 Out shape:43\n",
      "In shape: 43 Out shape:54\n",
      "In shape: 54 Out shape:62\n",
      "In shape: 62 Out shape:69\n",
      "In shape: 69 Out shape:41\n",
      "In shape: 41 Out shape:22\n",
      "In shape: 22 Out shape:27\n",
      "In shape: 27 Out shape:9\n",
      "In shape: 9 Out shape:2\n",
      "Traceback (most recent call last):\n",
      "  File \"prune.py\", line 137, in <module>\n",
      "    print('In shape: {:d} Out shape:{:d}'.format(idx0.shape[0], idx1.shape[0]))\n",
      "IndexError: tuple index out of range\n"
     ]
    }
   ],
   "source": [
    "! python prune.py --model model_best.pth.tar --save pruned4.pth.tar --percent 0.93\n"
   ]
  },
  {
   "cell_type": "code",
   "execution_count": 0,
   "metadata": {
    "colab": {
     "base_uri": "https://localhost:8080/",
     "height": 221
    },
    "colab_type": "code",
    "id": "Um4tSh1ekfZx",
    "outputId": "d48640df-6934-448d-be2b-fa32965f2252"
   },
   "outputs": [
    {
     "name": "stdout",
     "output_type": "stream",
     "text": [
      "Files already downloaded and verified\n",
      "Train Epoch: 0 [0/50000 (0.0%)]\tLoss: 2.251983\n",
      "Train Epoch: 0 [10000/50000 (20.0%)]\tLoss: 1.566316\n",
      "Train Epoch: 0 [20000/50000 (40.0%)]\tLoss: 1.392190\n",
      "Traceback (most recent call last):\n",
      "  File \"main.py\", line 155, in <module>\n",
      "    train(epoch)\n",
      "  File \"main.py\", line 116, in train\n",
      "    optimizer.step()\n",
      "  File \"/usr/local/lib/python3.6/dist-packages/torch/optim/sgd.py\", line 100, in step\n",
      "    buf.mul_(momentum).add_(1 - dampening, d_p)\n",
      "KeyboardInterrupt\n"
     ]
    }
   ],
   "source": [
    "! python main.py --refine pruned4.pth.tar --epochs 10\n"
   ]
  },
  {
   "cell_type": "code",
   "execution_count": 0,
   "metadata": {
    "colab": {},
    "colab_type": "code",
    "id": "CmZ-YUQDn29g"
   },
   "outputs": [],
   "source": []
  }
 ],
 "metadata": {
  "accelerator": "GPU",
  "colab": {
   "collapsed_sections": [],
   "name": "sensai_new_prune.ipynb",
   "provenance": [],
   "toc_visible": true
  },
  "kernelspec": {
   "display_name": "Python 3",
   "language": "python",
   "name": "python3"
  },
  "language_info": {
   "codemirror_mode": {
    "name": "ipython",
    "version": 3
   },
   "file_extension": ".py",
   "mimetype": "text/x-python",
   "name": "python",
   "nbconvert_exporter": "python",
   "pygments_lexer": "ipython3",
   "version": "3.6.9"
  }
 },
 "nbformat": 4,
 "nbformat_minor": 1
}
